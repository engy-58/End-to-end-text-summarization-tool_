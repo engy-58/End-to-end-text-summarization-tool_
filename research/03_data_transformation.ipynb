{
 "cells": [
  {
   "cell_type": "code",
   "execution_count": 6,
   "metadata": {},
   "outputs": [],
   "source": [
    "import os\n",
    "from dataclasses import dataclass\n",
    "from pathlib import Path\n",
    "import text_summarizer\n",
    "import urllib.request as request\n",
    "import zipfile\n",
    "from text_summarizer.constants import *\n",
    "from text_summarizer.utils.common import read_yaml, create_directories\n",
    "from text_summarizer.loggings import logger\n",
    "from text_summarizer.utils.common import get_size\n",
    "from transformers import AutoTokenizer\n",
    "from datasets import load_dataset, load_from_disk"
   ]
  },
  {
   "cell_type": "code",
   "execution_count": 2,
   "metadata": {},
   "outputs": [
    {
     "data": {
      "text/plain": [
       "'c:\\\\Users\\\\acer\\\\End-to-end-text-summarization-tool_\\\\research'"
      ]
     },
     "execution_count": 2,
     "metadata": {},
     "output_type": "execute_result"
    }
   ],
   "source": [
    "%pwd"
   ]
  },
  {
   "cell_type": "code",
   "execution_count": 3,
   "metadata": {},
   "outputs": [],
   "source": [
    "os.chdir(\"../\")"
   ]
  },
  {
   "cell_type": "code",
   "execution_count": 4,
   "metadata": {},
   "outputs": [
    {
     "data": {
      "text/plain": [
       "'c:\\\\Users\\\\acer\\\\End-to-end-text-summarization-tool_'"
      ]
     },
     "execution_count": 4,
     "metadata": {},
     "output_type": "execute_result"
    }
   ],
   "source": [
    "%pwd"
   ]
  },
  {
   "cell_type": "code",
   "execution_count": 7,
   "metadata": {},
   "outputs": [],
   "source": [
    "@dataclass(frozen=True)\n",
    "class DataTransformationConfig: \n",
    "  root_dir: Path\n",
    "  data_path: Path\n",
    "  tokenizer_name: Path"
   ]
  },
  {
   "cell_type": "code",
   "execution_count": 8,
   "metadata": {},
   "outputs": [],
   "source": [
    "class ConfigurationManager:\n",
    "    def __init__(\n",
    "        self,\n",
    "        config_filepath = CONFIG_FILE_PATH,\n",
    "        params_filepath = PARAMS_FILE_PATH):\n",
    "\n",
    "        self.config = read_yaml(config_filepath)\n",
    "        self.params = read_yaml(params_filepath)\n",
    "\n",
    "        create_directories([self.config.artifacts_root])\n",
    "    \n",
    "    def get_data_transformation_config(self) -> DataTransformationConfig:\n",
    "        config = self.config.data_transformation\n",
    "\n",
    "        create_directories([config.root_dir])\n",
    "\n",
    "        data_transformation_config = DataTransformationConfig(\n",
    "            root_dir = config.root_dir,\n",
    "            data_path = config.data_path,\n",
    "            tokenizer_name=config.tokenizer_name\n",
    "        )\n",
    "        return data_transformation_config\n"
   ]
  },
  {
   "cell_type": "code",
   "execution_count": 9,
   "metadata": {},
   "outputs": [],
   "source": [
    "class DataTransformation:\n",
    "    def __init__(self, config: DataTransformationConfig):\n",
    "        self.config = config\n",
    "        self.tokenizer = AutoTokenizer.from_pretrained(config.tokenizer_name)\n",
    "    \n",
    "    def convert_examples_to_features(self,example_batch):\n",
    "        input_encodings = self.tokenizer(example_batch['dialogue'] , max_length = 1024, truncation = True )\n",
    "        \n",
    "        with self.tokenizer.as_target_tokenizer():\n",
    "            target_encodings = self.tokenizer(example_batch['summary'], max_length = 128, truncation = True )\n",
    "            \n",
    "        return {\n",
    "            'input_ids' : input_encodings['input_ids'],\n",
    "            'attention_mask': input_encodings['attention_mask'],\n",
    "            'labels': target_encodings['input_ids']\n",
    "        }\n",
    "\n",
    "    def convert(self):\n",
    "        dataset_dialogsum = load_from_disk(self.config.data_path)\n",
    "        dataset_dialogsum_pt = dataset_dialogsum.map(self.convert_examples_to_features, batched = True)\n",
    "        dataset_dialogsum_pt.save_to_disk(os.path.join(self.config.root_dir,\"dialogsum_dataset\"))"
   ]
  },
  {
   "cell_type": "code",
   "execution_count": 10,
   "metadata": {},
   "outputs": [
    {
     "name": "stdout",
     "output_type": "stream",
     "text": [
      "[2023-09-12 22:14:40,325: INFO: common: yaml file: config\\config.yaml loaded successfully]\n",
      "[2023-09-12 22:14:40,333: INFO: common: yaml file: params.yaml loaded successfully]\n",
      "[2023-09-12 22:14:40,334: INFO: common: created directory at: artifacts]\n",
      "[2023-09-12 22:14:40,356: INFO: common: created directory at: artifacts/data_transformation]\n"
     ]
    },
    {
     "name": "stderr",
     "output_type": "stream",
     "text": [
      "Downloading (…)okenizer_config.json: 100%|██████████| 2.54k/2.54k [00:00<00:00, 1.15MB/s]\n",
      "d:\\Anaconda3\\envs\\text_summarization\\lib\\site-packages\\huggingface_hub\\file_download.py:133: UserWarning: `huggingface_hub` cache-system uses symlinks by default to efficiently store duplicated files but your machine does not support them in C:\\Users\\acer\\.cache\\huggingface\\hub. Caching files will still work but in a degraded version that might require more space on your disk. This warning can be disabled by setting the `HF_HUB_DISABLE_SYMLINKS_WARNING` environment variable. For more details, see https://huggingface.co/docs/huggingface_hub/how-to-cache#limitations.\n",
      "To support symlinks on Windows, you either need to activate Developer Mode or to run Python as an administrator. In order to see activate developer mode, see this article: https://docs.microsoft.com/en-us/windows/apps/get-started/enable-your-device-for-development\n",
      "  warnings.warn(message)\n",
      "Downloading spiece.model: 100%|██████████| 792k/792k [00:02<00:00, 331kB/s]\n",
      "Downloading (…)/main/tokenizer.json: 100%|██████████| 2.42M/2.42M [00:04<00:00, 535kB/s]\n",
      "Downloading (…)cial_tokens_map.json: 100%|██████████| 2.20k/2.20k [00:00<00:00, 733kB/s]\n"
     ]
    },
    {
     "ename": "FileNotFoundError",
     "evalue": "Directory artifacts/data_ingestion/dialogsum_dataset is neither a `Dataset` directory nor a `DatasetDict` directory.",
     "output_type": "error",
     "traceback": [
      "\u001b[1;31m---------------------------------------------------------------------------\u001b[0m",
      "\u001b[1;31mFileNotFoundError\u001b[0m                         Traceback (most recent call last)",
      "\u001b[1;32mc:\\Users\\acer\\End-to-end-text-summarization-tool_\\research\\03_data_transformation.ipynb Cell 8\u001b[0m line \u001b[0;36m7\n\u001b[0;32m      <a href='vscode-notebook-cell:/c%3A/Users/acer/End-to-end-text-summarization-tool_/research/03_data_transformation.ipynb#X11sZmlsZQ%3D%3D?line=4'>5</a>\u001b[0m     data_transformation\u001b[39m.\u001b[39mconvert()\n\u001b[0;32m      <a href='vscode-notebook-cell:/c%3A/Users/acer/End-to-end-text-summarization-tool_/research/03_data_transformation.ipynb#X11sZmlsZQ%3D%3D?line=5'>6</a>\u001b[0m \u001b[39mexcept\u001b[39;00m \u001b[39mException\u001b[39;00m \u001b[39mas\u001b[39;00m e:\n\u001b[1;32m----> <a href='vscode-notebook-cell:/c%3A/Users/acer/End-to-end-text-summarization-tool_/research/03_data_transformation.ipynb#X11sZmlsZQ%3D%3D?line=6'>7</a>\u001b[0m     \u001b[39mraise\u001b[39;00m e\n",
      "\u001b[1;32mc:\\Users\\acer\\End-to-end-text-summarization-tool_\\research\\03_data_transformation.ipynb Cell 8\u001b[0m line \u001b[0;36m5\n\u001b[0;32m      <a href='vscode-notebook-cell:/c%3A/Users/acer/End-to-end-text-summarization-tool_/research/03_data_transformation.ipynb#X11sZmlsZQ%3D%3D?line=2'>3</a>\u001b[0m     data_transformation_config \u001b[39m=\u001b[39m config\u001b[39m.\u001b[39mget_data_transformation_config()\n\u001b[0;32m      <a href='vscode-notebook-cell:/c%3A/Users/acer/End-to-end-text-summarization-tool_/research/03_data_transformation.ipynb#X11sZmlsZQ%3D%3D?line=3'>4</a>\u001b[0m     data_transformation \u001b[39m=\u001b[39m DataTransformation(config\u001b[39m=\u001b[39mdata_transformation_config)\n\u001b[1;32m----> <a href='vscode-notebook-cell:/c%3A/Users/acer/End-to-end-text-summarization-tool_/research/03_data_transformation.ipynb#X11sZmlsZQ%3D%3D?line=4'>5</a>\u001b[0m     data_transformation\u001b[39m.\u001b[39;49mconvert()\n\u001b[0;32m      <a href='vscode-notebook-cell:/c%3A/Users/acer/End-to-end-text-summarization-tool_/research/03_data_transformation.ipynb#X11sZmlsZQ%3D%3D?line=5'>6</a>\u001b[0m \u001b[39mexcept\u001b[39;00m \u001b[39mException\u001b[39;00m \u001b[39mas\u001b[39;00m e:\n\u001b[0;32m      <a href='vscode-notebook-cell:/c%3A/Users/acer/End-to-end-text-summarization-tool_/research/03_data_transformation.ipynb#X11sZmlsZQ%3D%3D?line=6'>7</a>\u001b[0m     \u001b[39mraise\u001b[39;00m e\n",
      "\u001b[1;32mc:\\Users\\acer\\End-to-end-text-summarization-tool_\\research\\03_data_transformation.ipynb Cell 8\u001b[0m line \u001b[0;36m1\n\u001b[0;32m     <a href='vscode-notebook-cell:/c%3A/Users/acer/End-to-end-text-summarization-tool_/research/03_data_transformation.ipynb#X11sZmlsZQ%3D%3D?line=17'>18</a>\u001b[0m \u001b[39mdef\u001b[39;00m \u001b[39mconvert\u001b[39m(\u001b[39mself\u001b[39m):\n\u001b[1;32m---> <a href='vscode-notebook-cell:/c%3A/Users/acer/End-to-end-text-summarization-tool_/research/03_data_transformation.ipynb#X11sZmlsZQ%3D%3D?line=18'>19</a>\u001b[0m     dataset_dialogsum \u001b[39m=\u001b[39m load_from_disk(\u001b[39mself\u001b[39;49m\u001b[39m.\u001b[39;49mconfig\u001b[39m.\u001b[39;49mdata_path)\n\u001b[0;32m     <a href='vscode-notebook-cell:/c%3A/Users/acer/End-to-end-text-summarization-tool_/research/03_data_transformation.ipynb#X11sZmlsZQ%3D%3D?line=19'>20</a>\u001b[0m     dataset_dialogsum_pt \u001b[39m=\u001b[39m dataset_dialogsum\u001b[39m.\u001b[39mmap(\u001b[39mself\u001b[39m\u001b[39m.\u001b[39mconvert_examples_to_features, batched \u001b[39m=\u001b[39m \u001b[39mTrue\u001b[39;00m)\n\u001b[0;32m     <a href='vscode-notebook-cell:/c%3A/Users/acer/End-to-end-text-summarization-tool_/research/03_data_transformation.ipynb#X11sZmlsZQ%3D%3D?line=20'>21</a>\u001b[0m     dataset_dialogsum_pt\u001b[39m.\u001b[39msave_to_disk(os\u001b[39m.\u001b[39mpath\u001b[39m.\u001b[39mjoin(\u001b[39mself\u001b[39m\u001b[39m.\u001b[39mconfig\u001b[39m.\u001b[39mroot_dir,\u001b[39m\"\u001b[39m\u001b[39mdialogsum_dataset\u001b[39m\u001b[39m\"\u001b[39m))\n",
      "File \u001b[1;32md:\\Anaconda3\\envs\\text_summarization\\lib\\site-packages\\datasets\\load.py:1888\u001b[0m, in \u001b[0;36mload_from_disk\u001b[1;34m(dataset_path, fs, keep_in_memory, storage_options)\u001b[0m\n\u001b[0;32m   1886\u001b[0m     \u001b[39mreturn\u001b[39;00m DatasetDict\u001b[39m.\u001b[39mload_from_disk(dataset_path, keep_in_memory\u001b[39m=\u001b[39mkeep_in_memory, storage_options\u001b[39m=\u001b[39mstorage_options)\n\u001b[0;32m   1887\u001b[0m \u001b[39melse\u001b[39;00m:\n\u001b[1;32m-> 1888\u001b[0m     \u001b[39mraise\u001b[39;00m \u001b[39mFileNotFoundError\u001b[39;00m(\n\u001b[0;32m   1889\u001b[0m         \u001b[39mf\u001b[39m\u001b[39m\"\u001b[39m\u001b[39mDirectory \u001b[39m\u001b[39m{\u001b[39;00mdataset_path\u001b[39m}\u001b[39;00m\u001b[39m is neither a `Dataset` directory nor a `DatasetDict` directory.\u001b[39m\u001b[39m\"\u001b[39m\n\u001b[0;32m   1890\u001b[0m     )\n",
      "\u001b[1;31mFileNotFoundError\u001b[0m: Directory artifacts/data_ingestion/dialogsum_dataset is neither a `Dataset` directory nor a `DatasetDict` directory."
     ]
    }
   ],
   "source": [
    "try:\n",
    "    config = ConfigurationManager()\n",
    "    data_transformation_config = config.get_data_transformation_config()\n",
    "    data_transformation = DataTransformation(config=data_transformation_config)\n",
    "    data_transformation.convert()\n",
    "except Exception as e:\n",
    "    raise e"
   ]
  }
 ],
 "metadata": {
  "kernelspec": {
   "display_name": "text_summarization",
   "language": "python",
   "name": "python3"
  },
  "language_info": {
   "codemirror_mode": {
    "name": "ipython",
    "version": 3
   },
   "file_extension": ".py",
   "mimetype": "text/x-python",
   "name": "python",
   "nbconvert_exporter": "python",
   "pygments_lexer": "ipython3",
   "version": "3.8.17"
  },
  "orig_nbformat": 4
 },
 "nbformat": 4,
 "nbformat_minor": 2
}
